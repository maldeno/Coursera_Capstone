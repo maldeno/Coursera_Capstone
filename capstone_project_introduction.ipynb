{
 "cells": [
  {
   "cell_type": "markdown",
   "metadata": {},
   "source": [
    "# Introduction and Business Problem\n",
    "    "
   ]
  },
  {
   "cell_type": "markdown",
   "metadata": {},
   "source": [
    "##### Introduction:\n",
    "New York City (NYC), also known as the City of New York or simply New York (NY), is the most populous city in the United States. With an estimated 2018 population of 8,398,748 distributed over a land area of about 302.6 square miles (784 km2), New York is also the most densely populated major city in the United States.\n",
    "\n",
    "For people that are new to New York, it can be daunting to figure out what restaurants are worth going to and where they are. For people that used to live in New York or are visiting New York, how do you know what the best places are to get something to eat?\n",
    "\n",
    "##### Business:\n",
    "For this project, I am going to create a simple guide on where to eat based on Foursquare likes, restaurant category and geographic location data for restaurants in New York. I will then cluster these restaurants based on their similarities so that a user can easily determine what type of restaurants are best to eat at based on Foursquare user feedback."
   ]
  },
  {
   "cell_type": "markdown",
   "metadata": {},
   "source": [
    "# Data Required"
   ]
  },
  {
   "cell_type": "markdown",
   "metadata": {},
   "source": [
    "For this assignment, I will be utilizing the Foursquare API to pull the following location data on restaurants in New York:\n",
    "    \n",
    "    Venue Name\n",
    "    Venue ID\n",
    "    Venue Location\n",
    "    Venue Category\n",
    "    Count of Likes\n",
    "    \n",
    "To acquire the data mentioned above, I will need to do the following:\n",
    "\n",
    "    Get geolocator lat and long coordinates for New York\n",
    "    Use Foursquare API to get a list of all venues in New York\n",
    "    Get venue name, venue ID, location, category, and likes"
   ]
  },
  {
   "cell_type": "markdown",
   "metadata": {},
   "source": [
    "# Algorithm\n",
    "I will take the gathered data (see above in Data Acquisition Approach and Data Required sections) and will create a k-means clustering algorithm that groups restaurants into 4-5 clusters so that people looking to eat in New York can easily see which restaurants are the best to eat at, what cuisine is available and where in New York they can look to eat."
   ]
  }
 ],
 "metadata": {
  "kernelspec": {
   "display_name": "Python 3",
   "language": "python",
   "name": "python3"
  },
  "language_info": {
   "codemirror_mode": {
    "name": "ipython",
    "version": 3
   },
   "file_extension": ".py",
   "mimetype": "text/x-python",
   "name": "python",
   "nbconvert_exporter": "python",
   "pygments_lexer": "ipython3",
   "version": "3.6.8"
  }
 },
 "nbformat": 4,
 "nbformat_minor": 4
}
